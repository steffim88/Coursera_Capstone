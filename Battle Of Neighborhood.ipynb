{
    "nbformat_minor": 1, 
    "cells": [
        {
            "source": "# Toronto Neighborhood Analysis for Renting/Buying a house", 
            "cell_type": "markdown", 
            "metadata": {
                "collapsed": true
            }
        }, 
        {
            "source": "## Business Problem\n", 
            "cell_type": "markdown", 
            "metadata": {}
        }, 
        {
            "source": "People like to gather a lot of information about one or more preferred locations before deciding to rent/buy a house  in a new location. Factors that influence this decision include population in the new locality, house price, nearby schools, crime rates etc. This project focus to help people select the best locality to move in based on features for a neighborhood or a comparison between neighborhoods thus saving a lot of time and money.\n\n As a sample, this project will  compare 2 neighborhoods of Toronto and analyze the similarities and dissimilarities between the two chosen neighborhoods to conclude with ease which neighborhood is the best.", 
            "cell_type": "markdown", 
            "metadata": {}
        }, 
        {
            "source": "## Data Selection", 
            "cell_type": "markdown", 
            "metadata": {}
        }, 
        {
            "source": "Forsquare API  was used to get the most common venues of Borough of Toronto. There are some public datas available in website https://www12.statcan.gc.ca/census-recensement/2016/dp-pd/prof/details/page.cfm?B1=All&Code1=3520005&Code2=35&Data=Count&Geo1=CSD&Geo2=PR&Lang=E&SearchPR=01&SearchText=Toronto&SearchType=Begins&TABID=1\nrelated to demographic and social parameters for the city of Toronto. In this case I collected the Crime Rate , School ratings e.tc for the analysis.", 
            "cell_type": "markdown", 
            "metadata": {}
        }, 
        {
            "source": "", 
            "cell_type": "code", 
            "execution_count": null, 
            "outputs": [], 
            "metadata": {}
        }
    ], 
    "nbformat": 4, 
    "metadata": {
        "kernelspec": {
            "display_name": "Python 3.6", 
            "name": "python3", 
            "language": "python"
        }, 
        "language_info": {
            "mimetype": "text/x-python", 
            "nbconvert_exporter": "python", 
            "version": "3.6.8", 
            "name": "python", 
            "pygments_lexer": "ipython3", 
            "file_extension": ".py", 
            "codemirror_mode": {
                "version": 3, 
                "name": "ipython"
            }
        }
    }
}